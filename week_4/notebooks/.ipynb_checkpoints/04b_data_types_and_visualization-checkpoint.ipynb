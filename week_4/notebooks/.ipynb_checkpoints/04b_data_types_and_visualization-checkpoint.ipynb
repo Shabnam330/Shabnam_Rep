{
 "cells": [
  {
   "cell_type": "markdown",
   "metadata": {},
   "source": [
    "# **AI TECH INSTITUTE** · *Intermediate AI & Data Science*\n",
    "### Week 04 · Notebook 02 — Data Types and Visualization\n",
    "**Instructor:** Amir Charkhi  |  **Goal:** Master data types and create compelling visualizations for data storytelling.\n",
    "\n",
    "> Format: short theory → quick practice → build understanding → mini-challenges.\n"
   ]
  },
  {
   "cell_type": "markdown",
   "metadata": {},
   "source": [
    "---\n",
    "## Learning Objectives\n",
    "- Identify and classify different data types (nominal, ordinal, interval, ratio)\n",
    "- Choose appropriate visualizations for each data type\n",
    "- Create effective charts that tell clear stories\n",
    "- Avoid common visualization pitfalls and misleading charts"
   ]
  },
  {
   "cell_type": "markdown",
   "metadata": {},
   "source": [
    "## 1. Understanding Data Types\n",
    "**The foundation of good analysis**: Know your data before you visualize it!"
   ]
  },
  {
   "cell_type": "code",
   "execution_count": 1,
   "metadata": {},
   "outputs": [],
   "source": [
    "import numpy as np\n",
    "import pandas as pd\n",
    "import matplotlib.pyplot as plt\n",
    "import seaborn as sns\n",
    "\n",
    "# Set style for nice plots\n",
    "sns.set_style('whitegrid')\n",
    "plt.rcParams['figure.figsize'] = (8, 4)\n",
    "%matplotlib inline"
   ]
  },
  {
   "cell_type": "code",
   "execution_count": 2,
   "metadata": {},
   "outputs": [
    {
     "name": "stdout",
     "output_type": "stream",
     "text": [
      "📊 Customer Data Sample:\n",
      "   customer_id  age gender satisfaction  purchases  spending\n",
      "0            1   25      M         Good          3    150.50\n",
      "1            2   34      F    Excellent          7    320.75\n",
      "2            3   45      M         Fair          2     89.99\n",
      "3            4   23      F         Good          9    450.00\n",
      "4            5   67      M         Poor          1     25.99\n",
      "5            6   29      F    Excellent         12    780.25\n",
      "6            7   38      M         Good          5    210.80\n",
      "7            8   52      F         Fair          4    167.45\n"
     ]
    }
   ],
   "source": [
    "# Real customer dataset\n",
    "np.random.seed(42)\n",
    "customers = {\n",
    "    'customer_id': range(1, 9),\n",
    "    'age': [25, 34, 45, 23, 67, 29, 38, 52],\n",
    "    'gender': ['M', 'F', 'M', 'F', 'M', 'F', 'M', 'F'],\n",
    "    'satisfaction': ['Good', 'Excellent', 'Fair', 'Good', 'Poor', 'Excellent', 'Good', 'Fair'],\n",
    "    'purchases': [3, 7, 2, 9, 1, 12, 5, 4],\n",
    "    'spending': [150.50, 320.75, 89.99, 450.00, 25.99, 780.25, 210.80, 167.45]\n",
    "}\n",
    "\n",
    "df = pd.DataFrame(customers)\n",
    "print(\"📊 Customer Data Sample:\")\n",
    "print(df)"
   ]
  },
  {
   "cell_type": "markdown",
   "metadata": {},
   "source": [
    "### 1.1 The Four Data Types"
   ]
  },
  {
   "cell_type": "code",
   "execution_count": null,
   "metadata": {},
   "outputs": [],
   "source": [
    "# Analyze our data types\n",
    "print(\"🔍 Data Type Analysis:\")\n",
    "print(f\"customer_id: Nominal (just labels)\")\n",
    "print(f\"age: Ratio (meaningful zero, can multiply/divide)\")\n",
    "print(f\"gender: Nominal (categories, no order)\")\n",
    "print(f\"satisfaction: Ordinal (Poor < Fair < Good < Excellent)\")\n",
    "print(f\"purchases: Ratio (count data, meaningful zero)\")\n",
    "print(f\"spending: Ratio (continuous, meaningful zero)\")"
   ]
  },
  {
   "cell_type": "code",
   "execution_count": 4,
   "metadata": {},
   "outputs": [
    {
     "name": "stdout",
     "output_type": "stream",
     "text": [
      "📈 Quick Stats:\n",
      "Average age: 39.1 years\n",
      "Total customers: 8\n",
      "Gender split: {'M': 4, 'F': 4}\n",
      "Most common satisfaction: Good\n"
     ]
    }
   ],
   "source": [
    "# Quick data exploration\n",
    "print(\"📈 Quick Stats:\")\n",
    "print(f\"Average age: {df['age'].mean():.1f} years\")\n",
    "print(f\"Total customers: {len(df)}\")\n",
    "print(f\"Gender split: {df['gender'].value_counts().to_dict()}\")\n",
    "print(f\"Most common satisfaction: {df['satisfaction'].mode()[0]}\")"
   ]
  },
  {
   "cell_type": "markdown",
   "metadata": {},
   "source": [
    "**Exercise 1 — Data Type Classification (easy)**  \n",
    "Classify each variable from a streaming service dataset.\n"
   ]
  },
  {
   "cell_type": "code",
   "execution_count": null,
   "metadata": {},
   "outputs": [],
   "source": [
    "# Your turn\n",
    "streaming_data = {\n",
    "    'user_id': ['U001', 'U002', 'U003'],\n",
    "    'subscription_type': ['Basic', 'Premium', 'Basic'],\n",
    "    'rating': ['★★★★☆', '★★★☆☆', '★★★★★'],\n",
    "    'watch_time_hours': [12.5, 8.2, 15.7],\n",
    "    'device_type': ['Mobile', 'TV', 'Laptop']\n",
    "}\n",
    "\n",
    "# Classify each variable as: Nominal, Ordinal, Interval, or Ratio\n",
    "\n",
    "classifications = [\"nominal\", \"ordinal\", \"ordinal\", \"ratio\", \"nominal\"]\n"
   ]
  },
  {
   "cell_type": "markdown",
   "metadata": {},
   "source": [
    "<details>\n",
    "<summary><b>Solution</b></summary>\n",
    "\n",
    "```python\n",
    "classifications = {\n",
    "    'user_id': 'Nominal - just identifiers, no meaningful order',\n",
    "    'subscription_type': 'Ordinal - Basic < Premium (ordered levels)',\n",
    "    'rating': 'Ordinal - ★ < ★★ < ★★★ < ★★★★ < ★★★★★',\n",
    "    'watch_time_hours': 'Ratio - continuous, meaningful zero, can say \"2x more\"',\n",
    "    'device_type': 'Nominal - categories with no natural order'\n",
    "}\n",
    "\n",
    "print(\"📱 Streaming Data Classification:\")\n",
    "for var, classification in classifications.items():\n",
    "    print(f\"{var}: {classification}\")\n",
    "```\n",
    "</details>"
   ]
  },
  {
   "cell_type": "markdown",
   "metadata": {},
   "source": [
    "## 2. Categorical Data Visualization"
   ]
  },
  {
   "cell_type": "markdown",
   "metadata": {},
   "source": [
    "### 2.1 Bar Charts: The Workhorse"
   ]
  },
  {
   "cell_type": "code",
   "execution_count": 5,
   "metadata": {},
   "outputs": [
    {
     "name": "stderr",
     "output_type": "stream",
     "text": [
      "C:\\Users\\alish\\miniconda3\\Lib\\site-packages\\IPython\\core\\pylabtools.py:152: UserWarning: Glyph 128101 (\\N{BUSTS IN SILHOUETTE}) missing from current font.\n",
      "  fig.canvas.print_figure(bytes_io, **kw)\n"
     ]
    },
    {
     "data": {
      "image/png": "[encoded data removed]",
      "text/plain": [
       "<Figure size 800x400 with 1 Axes>"
      ]
     },
     "metadata": {},
     "output_type": "display_data"
    }
   ],
   "source": [
    "# Gender distribution\n",
    "gender_counts = df['gender'].value_counts()\n",
    "\n",
    "plt.figure(figsize=(8, 4))\n",
    "bars = plt.bar(gender_counts.index, gender_counts.values, \n",
    "               color=['lightblue', 'lightcoral'], alpha=0.8)\n",
    "plt.title('👥 Customer Gender Distribution')\n",
    "plt.ylabel('Count')\n",
    "plt.xlabel('Gender')\n",
    "\n",
    "# Add value labels on bars\n",
    "for bar in bars:\n",
    "    height = bar.get_height()\n",
    "    plt.text(bar.get_x() + bar.get_width()/2., height + 0.05,\n",
    "             f'{int(height)}', ha='center', va='bottom')\n",
    "plt.show()"
   ]
  },
  {
   "cell_type": "markdown",
   "metadata": {},
   "source": [
    "### 2.2 Ordered Categories Need Special Care"
   ]
  },
  {
   "cell_type": "code",
   "execution_count": 3,
   "metadata": {},
   "outputs": [
    {
     "name": "stderr",
     "output_type": "stream",
     "text": [
      "C:\\Users\\alish\\miniconda3\\Lib\\site-packages\\IPython\\core\\pylabtools.py:152: UserWarning: Glyph 128522 (\\N{SMILING FACE WITH SMILING EYES}) missing from current font.\n",
      "  fig.canvas.print_figure(bytes_io, **kw)\n"
     ]
    },
    {
     "data": {
      "image/png": "[encoded data removed]",
      "text/plain": [
       "<Figure size 800x400 with 1 Axes>"
      ]
     },
     "metadata": {},
     "output_type": "display_data"
    }
   ],
   "source": [
    "# Satisfaction with proper ordering\n",
    "satisfaction_order = ['Poor', 'Fair', 'Good', 'Excellent']\n",
    "satisfaction_counts = df['satisfaction'].value_counts().reindex(satisfaction_order)\n",
    "\n",
    "plt.figure(figsize=(8, 4))\n",
    "colors = ['#ff4444', '#ffaa44', '#44aa44', '#4444ff']\n",
    "bars = plt.bar(satisfaction_counts.index, satisfaction_counts.values, \n",
    "               color=colors, alpha=0.8)\n",
    "plt.title('😊 Customer Satisfaction Levels')\n",
    "plt.ylabel('Count')\n",
    "plt.xlabel('Satisfaction Level')\n",
    "plt.xticks(rotation=45)\n",
    "plt.show()"
   ]
  },
  {
   "cell_type": "markdown",
   "metadata": {},
   "source": [
    "### 2.3 When NOT to Use Pie Charts"
   ]
  },
  {
   "cell_type": "code",
   "execution_count": 4,
   "metadata": {},
   "outputs": [
    {
     "name": "stderr",
     "output_type": "stream",
     "text": [
      "C:\\Users\\alish\\AppData\\Local\\Temp\\ipykernel_14288\\3926536801.py:16: UserWarning: Glyph 10060 (\\N{CROSS MARK}) missing from current font.\n",
      "  plt.tight_layout()\n",
      "C:\\Users\\alish\\AppData\\Local\\Temp\\ipykernel_14288\\3926536801.py:16: UserWarning: Glyph 9989 (\\N{WHITE HEAVY CHECK MARK}) missing from current font.\n",
      "  plt.tight_layout()\n",
      "C:\\Users\\alish\\miniconda3\\Lib\\site-packages\\IPython\\core\\pylabtools.py:152: UserWarning: Glyph 10060 (\\N{CROSS MARK}) missing from current font.\n",
      "  fig.canvas.print_figure(bytes_io, **kw)\n",
      "C:\\Users\\alish\\miniconda3\\Lib\\site-packages\\IPython\\core\\pylabtools.py:152: UserWarning: Glyph 9989 (\\N{WHITE HEAVY CHECK MARK}) missing from current font.\n",
      "  fig.canvas.print_figure(bytes_io, **kw)\n"
     ]
    },
    {
     "data": {
      "image/png": "[encoded data removed]",
      "text/plain": [
       "<Figure size 1200x400 with 2 Axes>"
      ]
     },
     "metadata": {},
     "output_type": "display_data"
    }
   ],
   "source": [
    "# Pie chart comparison\n",
    "fig, (ax1, ax2) = plt.subplots(1, 2, figsize=(12, 4))\n",
    "\n",
    "# Bad: Too many categories\n",
    "many_categories = ['A', 'B', 'C', 'D', 'E', 'F', 'G']\n",
    "values = [15, 12, 10, 8, 7, 6, 5]\n",
    "ax1.pie(values, labels=many_categories, autopct='%1.1f%%')\n",
    "ax1.set_title('❌ Too Many Slices')\n",
    "\n",
    "# Good: Simple comparison\n",
    "simple_data = df['gender'].value_counts()\n",
    "ax2.pie(simple_data.values, labels=simple_data.index, \n",
    "        autopct='%1.1f%%', startangle=90)\n",
    "ax2.set_title('✅ Clear & Simple')\n",
    "\n",
    "plt.tight_layout()\n",
    "plt.show()"
   ]
  },
  {
   "cell_type": "markdown",
   "metadata": {},
   "source": [
    "## 3. Numerical Data Visualization"
   ]
  },
  {
   "cell_type": "markdown",
   "metadata": {},
   "source": [
    "### 3.1 Histograms: Show the Shape"
   ]
  },
  {
   "cell_type": "code",
   "execution_count": 5,
   "metadata": {},
   "outputs": [
    {
     "name": "stderr",
     "output_type": "stream",
     "text": [
      "C:\\Users\\alish\\miniconda3\\Lib\\site-packages\\IPython\\core\\pylabtools.py:152: UserWarning: Glyph 128202 (\\N{BAR CHART}) missing from current font.\n",
      "  fig.canvas.print_figure(bytes_io, **kw)\n"
     ]
    },
    {
     "data": {
      "image/png": "[encoded data removed]",
      "text/plain": [
       "<Figure size 800x400 with 1 Axes>"
      ]
     },
     "metadata": {},
     "output_type": "display_data"
    }
   ],
   "source": [
    "# Generate more realistic age data\n",
    "np.random.seed(42)\n",
    "ages = np.random.normal(35, 12, 100)\n",
    "ages = np.clip(ages, 18, 80)  # Realistic age range\n",
    "\n",
    "plt.figure(figsize=(8, 4))\n",
    "plt.hist(ages, bins=15, alpha=0.7, color='skyblue', edgecolor='black')\n",
    "plt.axvline(ages.mean(), color='red', linestyle='--', \n",
    "           label=f'Mean: {ages.mean():.1f}')\n",
    "plt.title('📊 Age Distribution')\n",
    "plt.xlabel('Age (years)')\n",
    "plt.ylabel('Frequency')\n",
    "plt.legend()\n",
    "plt.grid(True, alpha=0.3)\n",
    "plt.show()"
   ]
  },
  {
   "cell_type": "markdown",
   "metadata": {},
   "source": [
    "### 3.2 Box Plots: Spot Outliers Instantly"
   ]
  },
  {
   "cell_type": "code",
   "execution_count": 6,
   "metadata": {},
   "outputs": [
    {
     "name": "stderr",
     "output_type": "stream",
     "text": [
      "C:\\Users\\alish\\AppData\\Local\\Temp\\ipykernel_14288\\1018287102.py:17: UserWarning: Glyph 128176 (\\N{MONEY BAG}) missing from current font.\n",
      "  plt.tight_layout()\n",
      "C:\\Users\\alish\\miniconda3\\Lib\\site-packages\\IPython\\core\\pylabtools.py:152: UserWarning: Glyph 128176 (\\N{MONEY BAG}) missing from current font.\n",
      "  fig.canvas.print_figure(bytes_io, **kw)\n"
     ]
    },
    {
     "data": {
      "image/png": "[encoded data removed]",
      "text/plain": [
       "<Figure size 1000x400 with 2 Axes>"
      ]
     },
     "metadata": {},
     "output_type": "display_data"
    }
   ],
   "source": [
    "# Box plot reveals distribution details\n",
    "spending_data = [50, 75, 80, 85, 90, 95, 100, 105, 110, 350]  # Note the outlier!\n",
    "\n",
    "fig, (ax1, ax2) = plt.subplots(1, 2, figsize=(10, 4))\n",
    "\n",
    "# Histogram\n",
    "ax1.hist(spending_data, bins=8, alpha=0.7, color='lightgreen')\n",
    "ax1.set_title('💰 Spending Histogram')\n",
    "ax1.set_xlabel('Spending ($)')\n",
    "\n",
    "# Box plot shows outlier clearly\n",
    "ax2.boxplot(spending_data, vert=True)\n",
    "ax2.set_title('💰 Spending Box Plot')\n",
    "ax2.set_ylabel('Spending ($)')\n",
    "ax2.text(1.1, 350, '← Outlier!', fontsize=12, color='red')\n",
    "\n",
    "plt.tight_layout()\n",
    "plt.show()"
   ]
  },
  {
   "cell_type": "markdown",
   "metadata": {},
   "source": [
    "**Exercise 2 — Choosing the Right Chart (medium)**  \n",
    "Match each scenario with the best visualization.\n"
   ]
  },
  {
   "cell_type": "code",
   "execution_count": 7,
   "metadata": {},
   "outputs": [
    {
     "name": "stdout",
     "output_type": "stream",
     "text": [
      "Chart Selection Guide:\n",
      "Compare sales across 5 product categories → Bar chart\n",
      "Show distribution of customer ages → Histogram\n",
      "Display relationship between price and demand → Scatter plot\n",
      "Compare market share of 3 companies → Pie chart\n",
      "Show monthly revenue over 2 years → Line chart\n",
      "\n",
      " Key principles:\n",
      " Bar charts: Compare categories\n",
      " Histograms: Show distributions\n",
      " Scatter plots: Show relationships\n",
      " Pie charts: Parts of a whole (max 5 categories)\n",
      " Line charts: Trends over time\n"
     ]
    }
   ],
   "source": [
    "# Your turn\n",
    "scenarios = [\n",
    "    \"Compare sales across 5 product categories\",\n",
    "    \"Show distribution of customer ages\", \n",
    "    \"Display relationship between price and demand\",\n",
    "    \"Compare market share of 3 companies\",\n",
    "    \"Show monthly revenue over 2 years\"\n",
    "]\n",
    "\n",
    "chart_types = ['Bar chart', 'Histogram', 'Scatter plot', 'Pie chart', 'Line chart']\n",
    "\n",
    "# Match each scenario with best chart type\n",
    "matches = {\n",
    "    \"Compare sales across 5 product categories\": \"Bar chart\",\n",
    "    \"Show distribution of customer ages\": \"Histogram\", \n",
    "    \"Display relationship between price and demand\": \"Scatter plot\",\n",
    "    \"Compare market share of 3 companies\": \"Pie chart\",\n",
    "    \"Show monthly revenue over 2 years\": \"Line chart\"\n",
    "}\n",
    "\n",
    "print(\"Chart Selection Guide:\")\n",
    "for scenario, chart in matches.items():\n",
    "    print(f\"{scenario} → {chart}\")\n",
    "    \n",
    "print(\"\\n Key principles:\")\n",
    "print(\" Bar charts: Compare categories\")\n",
    "print(\" Histograms: Show distributions\")\n",
    "print(\" Scatter plots: Show relationships\")\n",
    "print(\" Pie charts: Parts of a whole (max 5 categories)\")\n",
    "print(\" Line charts: Trends over time\")\n"
   ]
  },
  {
   "cell_type": "markdown",
   "metadata": {},
   "source": [
    "<details>\n",
    "<summary><b>Solution</b></summary>\n",
    "\n",
    "```python\n",
    "matches = {\n",
    "    \"Compare sales across 5 product categories\": \"Bar chart\",\n",
    "    \"Show distribution of customer ages\": \"Histogram\", \n",
    "    \"Display relationship between price and demand\": \"Scatter plot\",\n",
    "    \"Compare market share of 3 companies\": \"Pie chart\",\n",
    "    \"Show monthly revenue over 2 years\": \"Line chart\"\n",
    "}\n",
    "\n",
    "print(\"🎯 Chart Selection Guide:\")\n",
    "for scenario, chart in matches.items():\n",
    "    print(f\"• {scenario} → {chart}\")\n",
    "    \n",
    "print(\"\\n💡 Key principles:\")\n",
    "print(\"• Bar charts: Compare categories\")\n",
    "print(\"• Histograms: Show distributions\")\n",
    "print(\"• Scatter plots: Show relationships\")\n",
    "print(\"• Pie charts: Parts of a whole (max 5 categories)\")\n",
    "print(\"• Line charts: Trends over time\")\n",
    "```\n",
    "</details>"
   ]
  },
  {
   "cell_type": "markdown",
   "metadata": {},
   "source": [
    "## 4. Advanced Seaborn Visualizations"
   ]
  },
  {
   "cell_type": "code",
   "execution_count": null,
   "metadata": {},
   "outputs": [],
   "source": [
    "# Create realistic dataset for advanced examples\n",
    "np.random.seed(42)\n",
    "n = 200\n",
    "advanced_data = pd.DataFrame({\n",
    "    'age': np.random.randint(18, 70, n),\n",
    "    'income': np.random.normal(50000, 15000, n),\n",
    "    'education': np.random.choice(['High School', 'Bachelor', 'Master', 'PhD'], n),\n",
    "    'satisfaction': np.random.choice(['Poor', 'Fair', 'Good', 'Excellent'], n),\n",
    "    'department': np.random.choice(['Sales', 'Marketing', 'Engineering', 'HR'], n)\n",
    "})\n",
    "\n",
    "print(f\"📈 Advanced Dataset: {advanced_data.shape}\")\n",
    "print(advanced_data.head(3))"
   ]
  },
  {
   "cell_type": "code",
   "execution_count": null,
   "metadata": {},
   "outputs": [],
   "source": [
    "# Multiple comparisons with seaborn\n",
    "fig, ((ax1, ax2), (ax3, ax4)) = plt.subplots(2, 2, figsize=(12, 8))\n",
    "\n",
    "# Count plot\n",
    "sns.countplot(data=advanced_data, x='education', ax=ax1)\n",
    "ax1.set_title('🎓 Education Levels')\n",
    "ax1.tick_params(axis='x', rotation=45)\n",
    "\n",
    "# Box plot by category\n",
    "sns.boxplot(data=advanced_data, x='department', y='income', ax=ax2)\n",
    "ax2.set_title('💼 Income by Department')\n",
    "ax2.tick_params(axis='x', rotation=45)\n",
    "\n",
    "# Violin plot (like box plot but shows shape)\n",
    "sns.violinplot(data=advanced_data, x='education', y='age', ax=ax3)\n",
    "ax3.set_title('🎻 Age by Education')\n",
    "ax3.tick_params(axis='x', rotation=45)\n",
    "\n",
    "# Scatter plot with categories\n",
    "sns.scatterplot(data=advanced_data, x='age', y='income', \n",
    "               hue='education', ax=ax4)\n",
    "ax4.set_title('💰 Age vs Income by Education')\n",
    "\n",
    "plt.tight_layout()\n",
    "plt.show()"
   ]
  },
  {
   "cell_type": "markdown",
   "metadata": {},
   "source": [
    "## 5. Avoiding Visualization Pitfalls"
   ]
  },
  {
   "cell_type": "markdown",
   "metadata": {},
   "source": [
    "### 5.1 The Misleading Y-Axis Trap"
   ]
  },
  {
   "cell_type": "code",
   "execution_count": null,
   "metadata": {},
   "outputs": [],
   "source": [
    "# Demonstrate misleading scales\n",
    "months = ['Jan', 'Feb', 'Mar', 'Apr', 'May']\n",
    "sales = [1000, 1020, 1015, 1035, 1040]\n",
    "\n",
    "fig, (ax1, ax2) = plt.subplots(1, 2, figsize=(12, 4))\n",
    "\n",
    "# Misleading: Truncated y-axis\n",
    "ax1.plot(months, sales, marker='o', linewidth=3, markersize=8)\n",
    "ax1.set_ylim(990, 1050)\n",
    "ax1.set_title('❌ Misleading: \"Massive Growth!\"')\n",
    "ax1.set_ylabel('Sales ($)')\n",
    "ax1.grid(True)\n",
    "\n",
    "# Honest: Full scale\n",
    "ax2.plot(months, sales, marker='o', linewidth=3, markersize=8)\n",
    "ax2.set_ylim(0, 1200)\n",
    "ax2.set_title('✅ Honest: Modest Growth')\n",
    "ax2.set_ylabel('Sales ($)')\n",
    "ax2.grid(True)\n",
    "\n",
    "plt.tight_layout()\n",
    "plt.show()\n",
    "\n",
    "print(\"🎯 Key lesson: Always consider if your y-axis tells the truth!\")"
   ]
  },
  {
   "cell_type": "markdown",
   "metadata": {},
   "source": [
    "### 5.2 Color and Accessibility"
   ]
  },
  {
   "cell_type": "code",
   "execution_count": null,
   "metadata": {},
   "outputs": [],
   "source": [
    "# Good color practices\n",
    "categories = ['Product A', 'Product B', 'Product C', 'Product D']\n",
    "values = [25, 35, 20, 20]\n",
    "\n",
    "fig, (ax1, ax2) = plt.subplots(1, 2, figsize=(12, 4))\n",
    "\n",
    "# Bad: Similar colors\n",
    "bad_colors = ['#ff0000', '#ff3333', '#ff6666', '#ff9999']\n",
    "ax1.bar(categories, values, color=bad_colors)\n",
    "ax1.set_title('❌ Hard to Distinguish')\n",
    "ax1.tick_params(axis='x', rotation=45)\n",
    "\n",
    "# Good: Distinct colors\n",
    "good_colors = ['#1f77b4', '#ff7f0e', '#2ca02c', '#d62728']\n",
    "ax2.bar(categories, values, color=good_colors)\n",
    "ax2.set_title('✅ Clear & Accessible')\n",
    "ax2.tick_params(axis='x', rotation=45)\n",
    "\n",
    "plt.tight_layout()\n",
    "plt.show()"
   ]
  },
  {
   "cell_type": "markdown",
   "metadata": {},
   "source": [
    "**Exercise 3 — Fix the Bad Chart (hard)**  \n",
    "Identify and fix issues in a problematic visualization.\n"
   ]
  },
  {
   "cell_type": "code",
   "execution_count": null,
   "metadata": {},
   "outputs": [],
   "source": [
    "# Your turn - this chart has multiple problems!\n",
    "bad_data = {\n",
    "    'Q1 2023': 98,\n",
    "    'Q2 2023': 97,\n",
    "    'Q3 2023': 99,\n",
    "    'Q4 2023': 101,\n",
    "    'Q1 2024': 102\n",
    "}\n",
    "\n",
    "# Bad chart (identify the problems)\n",
    "plt.figure(figsize=(6, 3))\n",
    "plt.bar(bad_data.keys(), bad_data.values(), color='red')\n",
    "plt.ylim(96, 103)\n",
    "plt.title('EXPLOSIVE GROWTH!!!')\n",
    "plt.show()\n",
    "\n",
    "print(\"Problems identified:\")\n",
    "print(\"1. Misleading y-axis (starts at 96, not 0)\")\n",
    "print(\"2. Exaggerated title ('EXPLOSIVE GROWTH')\")\n",
    "print(\"3. Poor color choice (aggressive red)\")\n",
    "print(\"4. Too small figure size\")\n",
    "print(\"5. No axis labels\")\n",
    "print(\"6. Data doesn't support 'explosive' claim\")\n",
    "\n",
    "\n",
    "# Now create a better version\n",
    "plt.figure(figsize=(10, 6))\n",
    "bars = plt.bar(bad_data.keys(), bad_data.values(), \n",
    "               color='steelblue', alpha=0.7, edgecolor='black')\n",
    "plt.ylim(0, 120)  # Start from 0\n",
    "plt.title('Quarterly Performance: Steady Growth', fontsize=14)\n",
    "plt.xlabel('Quarter')\n",
    "plt.ylabel('Performance Score')\n",
    "plt.grid(True, alpha=0.3)\n",
    "\n",
    "# Add value labels\n",
    "for bar in bars:\n",
    "    height = bar.get_height()\n",
    "    plt.text(bar.get_x() + bar.get_width()/2., height + 1,\n",
    "             f'{int(height)}', ha='center', va='bottom')\n",
    "\n",
    "plt.xticks(rotation=45)\n",
    "plt.tight_layout()\n",
    "plt.show()\n"
   ]
  },
  {
   "cell_type": "markdown",
   "metadata": {},
   "source": [
    "<details>\n",
    "<summary><b>Solution</b></summary>\n",
    "\n",
    "```python\n",
    "# Problems with the bad chart:\n",
    "print(\"🚨 Problems identified:\")\n",
    "print(\"1. Misleading y-axis (starts at 96, not 0)\")\n",
    "print(\"2. Exaggerated title ('EXPLOSIVE GROWTH')\")\n",
    "print(\"3. Poor color choice (aggressive red)\")\n",
    "print(\"4. Too small figure size\")\n",
    "print(\"5. No axis labels\")\n",
    "print(\"6. Data doesn't support 'explosive' claim\")\n",
    "\n",
    "# Fixed version\n",
    "plt.figure(figsize=(10, 6))\n",
    "bars = plt.bar(bad_data.keys(), bad_data.values(), \n",
    "               color='steelblue', alpha=0.7, edgecolor='black')\n",
    "plt.ylim(0, 120)  # Start from 0\n",
    "plt.title('Quarterly Performance: Steady Growth', fontsize=14)\n",
    "plt.xlabel('Quarter')\n",
    "plt.ylabel('Performance Score')\n",
    "plt.grid(True, alpha=0.3)\n",
    "\n",
    "# Add value labels\n",
    "for bar in bars:\n",
    "    height = bar.get_height()\n",
    "    plt.text(bar.get_x() + bar.get_width()/2., height + 1,\n",
    "             f'{int(height)}', ha='center', va='bottom')\n",
    "\n",
    "plt.xticks(rotation=45)\n",
    "plt.tight_layout()\n",
    "plt.show()\n",
    "\n",
    "print(\"\\n✅ Fixed version shows:\")\n",
    "print(\"• Honest scale starting from 0\")\n",
    "print(\"• Accurate, non-misleading title\")\n",
    "print(\"• Professional color scheme\")\n",
    "print(\"• Proper labels and formatting\")\n",
    "print(\"• Data in context - modest, steady improvement\")\n",
    "```\n",
    "</details>"
   ]
  },
  {
   "cell_type": "markdown",
   "metadata": {},
   "source": [
    "## 6. Mini-Challenges\n",
    "- **M1 (easy):** Create a dashboard showing employee satisfaction by department using multiple chart types\n",
    "- **M2 (medium):** Build a correlation heatmap for numerical variables and interpret the patterns\n",
    "- **M3 (hard):** Design an interactive visualization that tells a data story about customer behavior"
   ]
  },
  {
   "cell_type": "code",
   "execution_count": null,
   "metadata": {},
   "outputs": [],
   "source": [
    "# Your turn - try the challenges!\n",
    "# M1 Data:\n",
    "employee_data = {\n",
    "    'dept': ['Sales', 'Sales', 'Engineering', 'Engineering', 'HR', 'HR'],\n",
    "    'satisfaction': [4, 3, 5, 4, 3, 4],  # 1-5 scale\n",
    "    'tenure': [2, 5, 1, 7, 3, 4]  # years\n",
    "}\n",
    "emp_df = pd.DataFrame(employee_data)\n",
    "\n",
    "fig, ((ax1, ax2), (ax3, ax4)) = plt.subplots(2, 2, figsize=(12, 8))\n",
    "fig.suptitle('Employee Satisfaction Dashboard', fontsize=16)\n",
    "\n",
    "# Bar chart - average satisfaction by dept\n",
    "dept_satisfaction = emp_df.groupby('dept')['satisfaction'].mean()\n",
    "dept_satisfaction.plot(kind='bar', ax=ax1, color='skyblue')\n",
    "ax1.set_title('Average Satisfaction by Department')\n",
    "ax1.set_ylabel('Satisfaction (1-5)')\n",
    "ax1.tick_params(axis='x', rotation=45)\n",
    "\n",
    "# Histogram - satisfaction distribution\n",
    "ax2.hist(emp_df['satisfaction'], bins=5, alpha=0.7, color='lightgreen')\n",
    "ax2.set_title('Satisfaction Score Distribution')\n",
    "ax2.set_xlabel('Satisfaction Score')\n",
    "\n",
    "# Scatter - tenure vs satisfaction\n",
    "ax3.scatter(emp_df['tenure'], emp_df['satisfaction'], alpha=0.7, s=100)\n",
    "ax3.set_xlabel('Tenure (years)')\n",
    "ax3.set_ylabel('Satisfaction')\n",
    "ax3.set_title('Tenure vs Satisfaction')\n",
    "\n",
    "# Box plot - satisfaction by department\n",
    "emp_df.boxplot(column='satisfaction', by='dept', ax=ax4)\n",
    "ax4.set_title('Satisfaction Distribution by Dept')\n",
    "\n",
    "plt.tight_layout()\n",
    "plt.show()\n",
    "# M2: Use advanced_data from earlier\n",
    "numerical_cols = ['age', 'income']\n",
    "corr_matrix = advanced_data[numerical_cols].corr()\n",
    "\n",
    "plt.figure(figsize=(8, 6))\n",
    "sns.heatmap(corr_matrix, annot=True, cmap='coolwarm', center=0,\n",
    "            square=True, cbar_kws={'label': 'Correlation'})\n",
    "plt.title('Correlation Heatmap')\n",
    "plt.show()\n",
    "\n",
    "print(\"\\n M2 Insights:\")\n",
    "print(f\"Age-Income correlation: {corr_matrix.loc['age', 'income']:.3f}\")\n",
    "if abs(corr_matrix.loc['age', 'income']) > 0.3:\n",
    "    print(\"→ Moderate relationship between age and income\")\n",
    "else:\n",
    "    print(\"→ Weak relationship between age and income\")\n",
    "# M3: Be creative with storytelling!\n",
    "print(\"\\n M3 Data Story Framework:\")\n",
    "print(\"1. Hook: Start with surprising insight\")\n",
    "print(\"2. Context: Provide background\")\n",
    "print(\"3. Conflict: Show the problem/challenge\")\n",
    "print(\"4. Resolution: Present solution/finding\")\n",
    "print(\"5. Call to Action: What should audience do?\")\n",
    "print(\"\\nExample: 'Despite hiring more PhDs, customer satisfaction\")\n",
    "print(\"hasn't improved. Here's why...'\")\n"
   ]
  },
  {
   "cell_type": "markdown",
   "metadata": {},
   "source": [
    "<details>\n",
    "<summary><b>Solutions</b></summary>\n",
    "\n",
    "```python\n",
    "# M1 - Employee Dashboard\n",
    "emp_df = pd.DataFrame(employee_data)\n",
    "\n",
    "fig, ((ax1, ax2), (ax3, ax4)) = plt.subplots(2, 2, figsize=(12, 8))\n",
    "fig.suptitle('👥 Employee Satisfaction Dashboard', fontsize=16)\n",
    "\n",
    "# Bar chart - average satisfaction by dept\n",
    "dept_satisfaction = emp_df.groupby('dept')['satisfaction'].mean()\n",
    "dept_satisfaction.plot(kind='bar', ax=ax1, color='skyblue')\n",
    "ax1.set_title('Average Satisfaction by Department')\n",
    "ax1.set_ylabel('Satisfaction (1-5)')\n",
    "ax1.tick_params(axis='x', rotation=45)\n",
    "\n",
    "# Histogram - satisfaction distribution\n",
    "ax2.hist(emp_df['satisfaction'], bins=5, alpha=0.7, color='lightgreen')\n",
    "ax2.set_title('Satisfaction Score Distribution')\n",
    "ax2.set_xlabel('Satisfaction Score')\n",
    "\n",
    "# Scatter - tenure vs satisfaction\n",
    "ax3.scatter(emp_df['tenure'], emp_df['satisfaction'], alpha=0.7, s=100)\n",
    "ax3.set_xlabel('Tenure (years)')\n",
    "ax3.set_ylabel('Satisfaction')\n",
    "ax3.set_title('Tenure vs Satisfaction')\n",
    "\n",
    "# Box plot - satisfaction by department\n",
    "emp_df.boxplot(column='satisfaction', by='dept', ax=ax4)\n",
    "ax4.set_title('Satisfaction Distribution by Dept')\n",
    "\n",
    "plt.tight_layout()\n",
    "plt.show()\n",
    "\n",
    "# M2 - Correlation Heatmap\n",
    "numerical_cols = ['age', 'income']\n",
    "corr_matrix = advanced_data[numerical_cols].corr()\n",
    "\n",
    "plt.figure(figsize=(8, 6))\n",
    "sns.heatmap(corr_matrix, annot=True, cmap='coolwarm', center=0,\n",
    "            square=True, cbar_kws={'label': 'Correlation'})\n",
    "plt.title('🔥 Correlation Heatmap')\n",
    "plt.show()\n",
    "\n",
    "print(\"\\n📊 M2 Insights:\")\n",
    "print(f\"Age-Income correlation: {corr_matrix.loc['age', 'income']:.3f}\")\n",
    "if abs(corr_matrix.loc['age', 'income']) > 0.3:\n",
    "    print(\"→ Moderate relationship between age and income\")\n",
    "else:\n",
    "    print(\"→ Weak relationship between age and income\")\n",
    "\n",
    "# M3 - Data Story\n",
    "print(\"\\n📖 M3 Data Story Framework:\")\n",
    "print(\"1. Hook: Start with surprising insight\")\n",
    "print(\"2. Context: Provide background\")\n",
    "print(\"3. Conflict: Show the problem/challenge\")\n",
    "print(\"4. Resolution: Present solution/finding\")\n",
    "print(\"5. Call to Action: What should audience do?\")\n",
    "print(\"\\nExample: 'Despite hiring more PhDs, customer satisfaction\")\n",
    "print(\"hasn't improved. Here's why...'\")\n",
    "```\n",
    "</details>"
   ]
  },
  {
   "cell_type": "markdown",
   "metadata": {},
   "source": [
    "## Wrap-Up & Next Steps\n",
    "✅ You can identify and classify different data types correctly  \n",
    "✅ You know which chart type works best for each data type  \n",
    "✅ You can create effective, honest visualizations using Python  \n",
    "✅ You can spot and avoid common visualization pitfalls  \n",
    "\n",
    "**Next:** Descriptive Statistics - Dive deep into measures of central tendency and spread!\n"
   ]
  }
 ],
 "metadata": {
  "kernelspec": {
   "display_name": "Python 3 (ipykernel)",
   "language": "python",
   "name": "python3"
  },
  "language_info": {
   "codemirror_mode": {
    "name": "ipython",
    "version": 3
   },
   "file_extension": ".py",
   "mimetype": "text/x-python",
   "name": "python",
   "nbconvert_exporter": "python",
   "pygments_lexer": "ipython3",
   "version": "3.11.5"
  }
 },
 "nbformat": 4,
 "nbformat_minor": 4
}
