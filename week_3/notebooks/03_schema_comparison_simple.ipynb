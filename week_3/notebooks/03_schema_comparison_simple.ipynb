{
 "cells": [
  {
   "cell_type": "markdown",
   "id": "18ef2347",
   "metadata": {},
   "source": [
    "# Star vs Normalized (3NF) vs Snowflake — **Super Simple Walkthrough**\n",
    "\n",
    "_Plain-English explanations with tiny pandas code examples._\n",
    "_Generated on 2025-09-11._"
   ]
  },
  {
   "cell_type": "markdown",
   "id": "cd9d4e44",
   "metadata": {},
   "source": [
    "## What you’ll learn\n",
    "- Purpose of each schema style.\n",
    "- How the tables look in each.\n",
    "- How many joins you usually do.\n",
    "- Simple pros & cons."
   ]
  },
  {
   "cell_type": "markdown",
   "id": "9199ba68",
   "metadata": {},
   "source": [
    "## Setup"
   ]
  },
  {
   "cell_type": "code",
   "execution_count": null,
   "id": "1f9922df",
   "metadata": {},
   "outputs": [],
   "source": [
    "import pandas as pd\n",
    "print('pandas:', pd.__version__)"
   ]
  },
  {
   "cell_type": "markdown",
   "id": "9d86a160",
   "metadata": {},
   "source": [
    "## Normalized (3NF)\n",
    "- Focused on **reducing redundancy** and ensuring consistency.\n",
    "- Many small tables, lots of joins.\n"
   ]
  },
  {
   "cell_type": "code",
   "execution_count": null,
   "id": "ff1db479",
   "metadata": {},
   "outputs": [],
   "source": [
    "orders = pd.DataFrame({\n",
    " 'order_id':[1001,1001,1002],\n",
    " 'customer_id':[10,10,11],\n",
    " 'order_date':['2024-01-01','2024-01-01','2024-01-02']\n",
    "})\n",
    "customers = pd.DataFrame({\n",
    " 'customer_id':[10,11],\n",
    " 'customer_name':['Acme','Bravo']\n",
    "})\n",
    "orders.merge(customers, on='customer_id')"
   ]
  },
  {
   "cell_type": "markdown",
   "id": "2ff22e33",
   "metadata": {},
   "source": [
    "## Star Schema\n",
    "- **Fact table** in center, **denormalized dimensions** around.\n",
    "- Easier for analytics: fewer joins.\n"
   ]
  },
  {
   "cell_type": "code",
   "execution_count": null,
   "id": "be6e161c",
   "metadata": {},
   "outputs": [],
   "source": [
    "fact_sales = pd.DataFrame({\n",
    " 'date_key':[20240101,20240101,20240102],\n",
    " 'product_key':[1,2,2],\n",
    " 'customer_key':[10,10,11],\n",
    " 'sales_amount':[200,120,360]\n",
    "})\n",
    "dim_customer = pd.DataFrame({\n",
    " 'customer_key':[10,11],\n",
    " 'customer_name':['Acme','Bravo']\n",
    "})\n",
    "fact_sales.merge(dim_customer, on='customer_key')"
   ]
  },
  {
   "cell_type": "markdown",
   "id": "02df8af1",
   "metadata": {},
   "source": [
    "## Snowflake Schema\n",
    "- Like Star, but dimensions are **normalized** into sub-dimensions.\n",
    "- Saves space, adds joins.\n"
   ]
  },
  {
   "cell_type": "code",
   "execution_count": null,
   "id": "78d569bf",
   "metadata": {},
   "outputs": [],
   "source": [
    "dim_product = pd.DataFrame({\n",
    " 'product_key':[1,2], 'category_id':[101,101]\n",
    "})\n",
    "dim_category = pd.DataFrame({\n",
    " 'category_id':[101], 'category_name':['Widgets']\n",
    "})\n",
    "dim_product.merge(dim_category, on='category_id')"
   ]
  },
  {
   "cell_type": "markdown",
   "id": "ff180eeb",
   "metadata": {},
   "source": [
    "## Recap\n",
    "- **3NF**: many joins, great for transactions.\n",
    "- **Star**: fewer joins, best for analytics.\n",
    "- **Snowflake**: compromise, less redundancy but more joins.\n"
   ]
  }
 ],
 "metadata": {
  "kernelspec": {
   "display_name": "Python 3 (ipykernel)",
   "language": "python",
   "name": "python3"
  },
  "language_info": {
   "codemirror_mode": {
    "name": "ipython",
    "version": 3
   },
   "file_extension": ".py",
   "mimetype": "text/x-python",
   "name": "python",
   "nbconvert_exporter": "python",
   "pygments_lexer": "ipython3",
   "version": "3.11.5"
  }
 },
 "nbformat": 4,
 "nbformat_minor": 5
}
